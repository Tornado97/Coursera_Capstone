{
 "cells": [
  {
   "cell_type": "markdown",
   "metadata": {
    "collapsed": true
   },
   "source": [
    "# This is my Coursera IBM Data Science Capstone\n",
    "\n",
    "## In this notebook, I will introduce you into the following problem I´ll solve. \n",
    "## Firstly, I´ll provide some background for the problem discuss its solution.\n",
    "## After that I´ll describe the data I am using to solve the problem."
   ]
  },
  {
   "cell_type": "markdown",
   "metadata": {},
   "source": []
  },
  {
   "cell_type": "markdown",
   "metadata": {},
   "source": [
    "#### 1. Description of the Business Problem and discussion of its background"
   ]
  },
  {
   "cell_type": "markdown",
   "metadata": {},
   "source": [
    "A greek-restaurant owner wants to find a good place to open his store in the city of Mannheim, Germany. \n",
    "\n",
    "To do so, he asks to investigate which place would fit the best. The place should be close to center, but\n",
    "should be not too much crowded. Close to his location, there should not be another greek restaurant.\n",
    "\n",
    "His goal is to find the place where to open his restaurant in Mannheim."
   ]
  },
  {
   "cell_type": "markdown",
   "metadata": {},
   "source": [
    "For this reason, using foursquare API, it has to be investigated in which area in this street are the least restaurants \n",
    "or other opportunities to eat. \n"
   ]
  },
  {
   "cell_type": "markdown",
   "metadata": {},
   "source": [
    "#### 2. description of the data and how it will be used to solve the problem"
   ]
  },
  {
   "cell_type": "markdown",
   "metadata": {},
   "source": [
    "Using foursquare api the places related to food will be scraped. Then the best place will the analysed using locatiion data and \n",
    "evaluating the place with the biggest distance to the next places."
   ]
  }
 ],
 "metadata": {
  "kernelspec": {
   "display_name": "Python 3.7",
   "language": "python",
   "name": "python3"
  },
  "language_info": {
   "codemirror_mode": {
    "name": "ipython",
    "version": 3
   },
   "file_extension": ".py",
   "mimetype": "text/x-python",
   "name": "python",
   "nbconvert_exporter": "python",
   "pygments_lexer": "ipython3",
   "version": "3.7.10"
  }
 },
 "nbformat": 4,
 "nbformat_minor": 1
}
