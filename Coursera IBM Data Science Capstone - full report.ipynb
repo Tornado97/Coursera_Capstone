{
 "cells": [
  {
   "cell_type": "markdown",
   "metadata": {
    "collapsed": true
   },
   "source": [
    "# Coursera IBM Data Science Capstone Project - full report & notebook\n"
   ]
  },
  {
   "cell_type": "markdown",
   "metadata": {},
   "source": [
    "## Table of contents\n",
    "* [Introduction: Business Problem](#introduction)\n",
    "* [Data](#data)\n",
    "* [Methodology](#methodology)\n",
    "* [Analysis](#analysis)\n",
    "* [Results and Discussion](#results)\n",
    "* [Conclusion](#conclusion)"
   ]
  },
  {
   "cell_type": "markdown",
   "metadata": {},
   "source": [
    "\n",
    "\n",
    "## Introduction: Business Problem <a name=\"introduction\"></a>"
   ]
  },
  {
   "cell_type": "markdown",
   "metadata": {},
   "source": [
    "In this project I will try to find an optimal location for a new greek restaurant. Specifically, this report will be targeted to stakeholders interested in opening an **greek restaurant** in the city of **Mannheim**, Germany. It is assumed that a current owner of a greek restaurant from another town is about to open a next greek restaurant in Mannheim. To find a good spot for this restaurant, this owner as the main stakeholder of this report sought out to me for analyzing the current situation of greek restaurants in the city of Mannheim.\n",
    "\n",
    "The location should not be crowded with a lot of competitors. As there are quite a lot of restaurants in Mannheim, I´ll try to detect a location that is not already crowded with a lot of competitors which are only assumed as greek restaurants. This means that I am going to investigate the situation of greek restaurants, so that all other categories of restaurants will not be part of this report. Especially, interesting are areas with no greek restaurants nearby. The location should be as close to city center as possible. An area of a radius of 300 m around the center of Mannheim is considered as close.\n",
    "\n",
    "The center of city of Mannheim is considered to be the 'Paradeplatz'.\n",
    "\n",
    "I will use data science powers to generate a few most promissing places based on this criteria. Advantages of each area will then be clearly expressed so that best possible final location can be chosen by stakeholders."
   ]
  },
  {
   "cell_type": "markdown",
   "metadata": {},
   "source": [
    "## Data <a name=\"data\"></a>"
   ]
  },
  {
   "cell_type": "markdown",
   "metadata": {},
   "source": [
    "To sum up this criteria, based on definition of the problem, factors that will influence the decision are:\n",
    "* number of existing restaurants in the center of Mannheim (any type of restaurant)\n",
    "* number of and distance to greek restaurants in the neighborhood\n",
    "* distance of neighborhood from city center\n",
    "\n",
    "I decided to use regularly spaced grid of locations, centered around city center, to define our neighborhoods.\n",
    "\n",
    "Following data sources will be needed to extract/generate the required information:\n",
    "* the latitude & longitude (coordinates) of the center of Mannheim  will be generated using Foursquare API\n",
    "* number of restaurants and their type and location will be obtained using Foursquare API"
   ]
  },
  {
   "cell_type": "markdown",
   "metadata": {},
   "source": [
    "### Find the center of Mannheim\n",
    "\n",
    "Let's create latitude & longitude coordinates for the center of mannheim. I´ll create a grid of cells covering our area of interest which is aprox. in a radius of 2000 meters centered around Mannheim center.\n",
    "\n",
    "Let's first find the latitude & longitude of Mannheim city center, using specific, well known address of Mannheim Paradeplatz and Google Maps geocoding API."
   ]
  },
  {
   "cell_type": "markdown",
   "metadata": {},
   "source": [
    "### import necessary libraries"
   ]
  },
  {
   "cell_type": "code",
   "execution_count": 23,
   "metadata": {},
   "outputs": [
    {
     "name": "stdout",
     "output_type": "stream",
     "text": [
      "Requirement already satisfied: geopy in /opt/conda/envs/Python-3.7-main/lib/python3.7/site-packages (2.0.0)\n",
      "Requirement already satisfied: geographiclib<2,>=1.49 in /opt/conda/envs/Python-3.7-main/lib/python3.7/site-packages (from geopy) (1.50)\n",
      "Requirement already satisfied: folium==0.5.0 in /opt/conda/envs/Python-3.7-main/lib/python3.7/site-packages (0.5.0)\n",
      "Requirement already satisfied: jinja2 in /opt/conda/envs/Python-3.7-main/lib/python3.7/site-packages (from folium==0.5.0) (2.11.2)\n",
      "Requirement already satisfied: requests in /opt/conda/envs/Python-3.7-main/lib/python3.7/site-packages (from folium==0.5.0) (2.24.0)\n",
      "Requirement already satisfied: branca in /opt/conda/envs/Python-3.7-main/lib/python3.7/site-packages (from folium==0.5.0) (0.4.2)\n",
      "Requirement already satisfied: six in /opt/conda/envs/Python-3.7-main/lib/python3.7/site-packages (from folium==0.5.0) (1.15.0)\n",
      "Requirement already satisfied: MarkupSafe>=0.23 in /opt/conda/envs/Python-3.7-main/lib/python3.7/site-packages (from jinja2->folium==0.5.0) (1.1.1)\n",
      "Requirement already satisfied: chardet<4,>=3.0.2 in /opt/conda/envs/Python-3.7-main/lib/python3.7/site-packages (from requests->folium==0.5.0) (3.0.4)\n",
      "Requirement already satisfied: idna<3,>=2.5 in /opt/conda/envs/Python-3.7-main/lib/python3.7/site-packages (from requests->folium==0.5.0) (2.9)\n",
      "Requirement already satisfied: certifi>=2017.4.17 in /opt/conda/envs/Python-3.7-main/lib/python3.7/site-packages (from requests->folium==0.5.0) (2020.12.5)\n",
      "Requirement already satisfied: urllib3!=1.25.0,!=1.25.1,<1.26,>=1.21.1 in /opt/conda/envs/Python-3.7-main/lib/python3.7/site-packages (from requests->folium==0.5.0) (1.25.9)\n",
      "Folium installed\n",
      "Libraries imported.\n"
     ]
    }
   ],
   "source": [
    "import requests # library to handle requests\n",
    "import pandas as pd # library for data analsysis\n",
    "import numpy as np # library to handle data in a vectorized manner\n",
    "import random # library for random number generation\n",
    "import math\n",
    "\n",
    "\n",
    "!pip install geopy\n",
    "from geopy.geocoders import Nominatim # module to convert an address into latitude and longitude values\n",
    "\n",
    "# libraries for displaying images\n",
    "from IPython.display import Image \n",
    "from IPython.core.display import HTML \n",
    "    \n",
    "# tranforming json file into a pandas dataframe library\n",
    "from pandas.io.json import json_normalize\n",
    "\n",
    "\n",
    "! pip install folium==0.5.0\n",
    "import folium # plotting library\n",
    "\n",
    "print('Folium installed')\n",
    "print('Libraries imported.')\n",
    "\n",
    "address = 'Paradeplatz, Mannheim, Germany'\n",
    "\n"
   ]
  },
  {
   "cell_type": "code",
   "execution_count": 16,
   "metadata": {},
   "outputs": [
    {
     "name": "stdout",
     "output_type": "stream",
     "text": [
      "latitude: 49.487182250000004 \n",
      "longitude: 8.466282438198064\n"
     ]
    }
   ],
   "source": [
    "# Foursquare credentials\n",
    "CLIENT_ID = 'SNWYGYS0H4MESNDGOBJQ3RXW2I0EXRFGXNT21O0YQCLDVXXM' \n",
    "CLIENT_SECRET = '52NYBOIHHVRAF3QZPLZEYMF2N0WNEXZLDOYZHH1N1OYLFYCS'\n",
    "ACCESS_TOKEN = 'KCE50YUYKQL02L4GVVMD4PWF3MJQWG0TV3VYASS5REEH1NBJ' \n",
    "VERSION = '20180604'\n",
    "LIMIT = 30\n",
    "\n",
    "\n",
    "#find coordinates of address\n",
    "address = 'Paradeplatz, Mannheim, Germany'\n",
    "\n",
    "geolocator = Nominatim(user_agent=\"foursquare_agent\")\n",
    "location = geolocator.geocode(address)\n",
    "latitude = location.latitude\n",
    "longitude = location.longitude\n",
    "location_coordinates = [latitude, longitude]\n",
    "print('latitude:',latitude, '\\nlongitude:',longitude)"
   ]
  },
  {
   "cell_type": "markdown",
   "metadata": {},
   "source": [
    "OK, we now have the coordinates of the city center of Mannheim.  \n",
    "\n",
    "Let's now search for the equivalent category"
   ]
  },
  {
   "cell_type": "code",
   "execution_count": 3,
   "metadata": {
    "scrolled": true
   },
   "outputs": [
    {
     "name": "stdout",
     "output_type": "stream",
     "text": [
      "Greek .... OK!\n"
     ]
    }
   ],
   "source": [
    "search_query = 'Greek'\n",
    "radius = 2000 #greek restaurant in a radius of 2000 m\n",
    "print(search_query + ' .... OK!')\n",
    "url = 'https://api.foursquare.com/v2/venues/search?client_id=SNWYGYS0H4MESNDGOBJQ3RXW2I0EXRFGXNT21O0YQCLDVXXM&client_secret=52NYBOIHHVRAF3QZPLZEYMF2N0WNEXZLDOYZHH1N1OYLFYCS&ll=49.487182250000004,8.466282438198064&oauth_token=KCE50YUYKQL02L4GVVMD4PWF3MJQWG0TV3VYASS5REEH1NBJ&v=20180604&query=Greek&radius=2000&limit=30'.format(CLIENT_ID, CLIENT_SECRET, latitude, longitude,ACCESS_TOKEN, VERSION, search_query, radius, LIMIT)\n",
    "url #check url\n",
    "results = requests.get(url).json() #send request for getting results"
   ]
  },
  {
   "cell_type": "code",
   "execution_count": 4,
   "metadata": {
    "scrolled": true
   },
   "outputs": [
    {
     "data": {
      "text/html": [
       "<div>\n",
       "<style scoped>\n",
       "    .dataframe tbody tr th:only-of-type {\n",
       "        vertical-align: middle;\n",
       "    }\n",
       "\n",
       "    .dataframe tbody tr th {\n",
       "        vertical-align: top;\n",
       "    }\n",
       "\n",
       "    .dataframe thead th {\n",
       "        text-align: right;\n",
       "    }\n",
       "</style>\n",
       "<table border=\"1\" class=\"dataframe\">\n",
       "  <thead>\n",
       "    <tr style=\"text-align: right;\">\n",
       "      <th></th>\n",
       "      <th>id</th>\n",
       "      <th>name</th>\n",
       "      <th>categories</th>\n",
       "      <th>referralId</th>\n",
       "      <th>hasPerk</th>\n",
       "      <th>location.address</th>\n",
       "      <th>location.lat</th>\n",
       "      <th>location.lng</th>\n",
       "      <th>location.labeledLatLngs</th>\n",
       "      <th>location.distance</th>\n",
       "      <th>location.postalCode</th>\n",
       "      <th>location.cc</th>\n",
       "      <th>location.city</th>\n",
       "      <th>location.state</th>\n",
       "      <th>location.country</th>\n",
       "      <th>location.formattedAddress</th>\n",
       "    </tr>\n",
       "  </thead>\n",
       "  <tbody>\n",
       "    <tr>\n",
       "      <th>0</th>\n",
       "      <td>540de7b9498eadd8beb91a85</td>\n",
       "      <td>Greek Food Bar -Restaurant</td>\n",
       "      <td>[{'id': '4bf58dd8d48988d10e941735', 'name': 'G...</td>\n",
       "      <td>v-1617184544</td>\n",
       "      <td>False</td>\n",
       "      <td>Q2, 14</td>\n",
       "      <td>49.488117</td>\n",
       "      <td>8.468732</td>\n",
       "      <td>[{'label': 'display', 'lat': 49.48811654211074...</td>\n",
       "      <td>205</td>\n",
       "      <td>68161</td>\n",
       "      <td>DE</td>\n",
       "      <td>Mannheim</td>\n",
       "      <td>Baden-Württemberg</td>\n",
       "      <td>Deutschland</td>\n",
       "      <td>[Q2, 14, 68161 Mannheim]</td>\n",
       "    </tr>\n",
       "    <tr>\n",
       "      <th>1</th>\n",
       "      <td>5bbbf9e8b8fd9d002c902466</td>\n",
       "      <td>Ellin - Original Greek</td>\n",
       "      <td>[{'id': '4bf58dd8d48988d10e941735', 'name': 'G...</td>\n",
       "      <td>v-1617184544</td>\n",
       "      <td>False</td>\n",
       "      <td>E3, 1</td>\n",
       "      <td>49.489254</td>\n",
       "      <td>8.464833</td>\n",
       "      <td>[{'label': 'display', 'lat': 49.489254, 'lng':...</td>\n",
       "      <td>253</td>\n",
       "      <td>68161</td>\n",
       "      <td>DE</td>\n",
       "      <td>Mannheim</td>\n",
       "      <td>Baden-Württemberg</td>\n",
       "      <td>Deutschland</td>\n",
       "      <td>[E3, 1, 68161 Mannheim]</td>\n",
       "    </tr>\n",
       "    <tr>\n",
       "      <th>2</th>\n",
       "      <td>5cc1b79604d1ae002ca44b99</td>\n",
       "      <td>Greek Food</td>\n",
       "      <td>[{'id': '4bf58dd8d48988d10e941735', 'name': 'G...</td>\n",
       "      <td>v-1617184544</td>\n",
       "      <td>False</td>\n",
       "      <td>Im Zollhof 4</td>\n",
       "      <td>49.486038</td>\n",
       "      <td>8.447235</td>\n",
       "      <td>[{'label': 'display', 'lat': 49.486038, 'lng':...</td>\n",
       "      <td>1383</td>\n",
       "      <td>NaN</td>\n",
       "      <td>DE</td>\n",
       "      <td>Ludwigshafen am Rhein</td>\n",
       "      <td>Rheinland-Pfalz</td>\n",
       "      <td>Deutschland</td>\n",
       "      <td>[Im Zollhof 4, Ludwigshafen am Rhein]</td>\n",
       "    </tr>\n",
       "    <tr>\n",
       "      <th>3</th>\n",
       "      <td>5d092fe02d2fd9002cd9605e</td>\n",
       "      <td>Mykonos Greek Food</td>\n",
       "      <td>[{'id': '4bf58dd8d48988d1df931735', 'name': 'B...</td>\n",
       "      <td>v-1617184544</td>\n",
       "      <td>False</td>\n",
       "      <td>Bahnhofstraße 22</td>\n",
       "      <td>49.482300</td>\n",
       "      <td>8.444235</td>\n",
       "      <td>[{'label': 'display', 'lat': 49.4823, 'lng': 8...</td>\n",
       "      <td>1684</td>\n",
       "      <td>67059</td>\n",
       "      <td>DE</td>\n",
       "      <td>Ludwigshafen am Rhein</td>\n",
       "      <td>Rheinland-Pfalz</td>\n",
       "      <td>Deutschland</td>\n",
       "      <td>[Bahnhofstraße 22, 67059 Ludwigshafen am Rhein]</td>\n",
       "    </tr>\n",
       "  </tbody>\n",
       "</table>\n",
       "</div>"
      ],
      "text/plain": [
       "                         id                        name  \\\n",
       "0  540de7b9498eadd8beb91a85  Greek Food Bar -Restaurant   \n",
       "1  5bbbf9e8b8fd9d002c902466      Ellin - Original Greek   \n",
       "2  5cc1b79604d1ae002ca44b99                  Greek Food   \n",
       "3  5d092fe02d2fd9002cd9605e          Mykonos Greek Food   \n",
       "\n",
       "                                          categories    referralId  hasPerk  \\\n",
       "0  [{'id': '4bf58dd8d48988d10e941735', 'name': 'G...  v-1617184544    False   \n",
       "1  [{'id': '4bf58dd8d48988d10e941735', 'name': 'G...  v-1617184544    False   \n",
       "2  [{'id': '4bf58dd8d48988d10e941735', 'name': 'G...  v-1617184544    False   \n",
       "3  [{'id': '4bf58dd8d48988d1df931735', 'name': 'B...  v-1617184544    False   \n",
       "\n",
       "   location.address  location.lat  location.lng  \\\n",
       "0            Q2, 14     49.488117      8.468732   \n",
       "1             E3, 1     49.489254      8.464833   \n",
       "2      Im Zollhof 4     49.486038      8.447235   \n",
       "3  Bahnhofstraße 22     49.482300      8.444235   \n",
       "\n",
       "                             location.labeledLatLngs  location.distance  \\\n",
       "0  [{'label': 'display', 'lat': 49.48811654211074...                205   \n",
       "1  [{'label': 'display', 'lat': 49.489254, 'lng':...                253   \n",
       "2  [{'label': 'display', 'lat': 49.486038, 'lng':...               1383   \n",
       "3  [{'label': 'display', 'lat': 49.4823, 'lng': 8...               1684   \n",
       "\n",
       "  location.postalCode location.cc          location.city     location.state  \\\n",
       "0               68161          DE               Mannheim  Baden-Württemberg   \n",
       "1               68161          DE               Mannheim  Baden-Württemberg   \n",
       "2                 NaN          DE  Ludwigshafen am Rhein    Rheinland-Pfalz   \n",
       "3               67059          DE  Ludwigshafen am Rhein    Rheinland-Pfalz   \n",
       "\n",
       "  location.country                        location.formattedAddress  \n",
       "0      Deutschland                         [Q2, 14, 68161 Mannheim]  \n",
       "1      Deutschland                          [E3, 1, 68161 Mannheim]  \n",
       "2      Deutschland            [Im Zollhof 4, Ludwigshafen am Rhein]  \n",
       "3      Deutschland  [Bahnhofstraße 22, 67059 Ludwigshafen am Rhein]  "
      ]
     },
     "execution_count": 4,
     "metadata": {},
     "output_type": "execute_result"
    }
   ],
   "source": [
    "#relevant part of JSON and Gettransform it into a _pandas_ dataframe\n",
    "# assign relevant part of JSON to venues\n",
    "venues = results['response']['venues']\n",
    "\n",
    "# tranform venues into a dataframe\n",
    "df = pd.json_normalize(venues)\n",
    "df.head()\n"
   ]
  },
  {
   "cell_type": "code",
   "execution_count": 6,
   "metadata": {},
   "outputs": [
    {
     "data": {
      "text/html": [
       "<div>\n",
       "<style scoped>\n",
       "    .dataframe tbody tr th:only-of-type {\n",
       "        vertical-align: middle;\n",
       "    }\n",
       "\n",
       "    .dataframe tbody tr th {\n",
       "        vertical-align: top;\n",
       "    }\n",
       "\n",
       "    .dataframe thead th {\n",
       "        text-align: right;\n",
       "    }\n",
       "</style>\n",
       "<table border=\"1\" class=\"dataframe\">\n",
       "  <thead>\n",
       "    <tr style=\"text-align: right;\">\n",
       "      <th></th>\n",
       "      <th>name</th>\n",
       "      <th>categories</th>\n",
       "      <th>address</th>\n",
       "      <th>lat</th>\n",
       "      <th>lng</th>\n",
       "      <th>labeledLatLngs</th>\n",
       "      <th>distance</th>\n",
       "      <th>postalCode</th>\n",
       "      <th>cc</th>\n",
       "      <th>city</th>\n",
       "      <th>state</th>\n",
       "      <th>country</th>\n",
       "      <th>formattedAddress</th>\n",
       "      <th>id</th>\n",
       "    </tr>\n",
       "  </thead>\n",
       "  <tbody>\n",
       "    <tr>\n",
       "      <th>0</th>\n",
       "      <td>Greek Food Bar -Restaurant</td>\n",
       "      <td>Greek Restaurant</td>\n",
       "      <td>Q2, 14</td>\n",
       "      <td>49.488117</td>\n",
       "      <td>8.468732</td>\n",
       "      <td>[{'label': 'display', 'lat': 49.48811654211074...</td>\n",
       "      <td>205</td>\n",
       "      <td>68161</td>\n",
       "      <td>DE</td>\n",
       "      <td>Mannheim</td>\n",
       "      <td>Baden-Württemberg</td>\n",
       "      <td>Deutschland</td>\n",
       "      <td>[Q2, 14, 68161 Mannheim]</td>\n",
       "      <td>540de7b9498eadd8beb91a85</td>\n",
       "    </tr>\n",
       "    <tr>\n",
       "      <th>1</th>\n",
       "      <td>Ellin - Original Greek</td>\n",
       "      <td>Greek Restaurant</td>\n",
       "      <td>E3, 1</td>\n",
       "      <td>49.489254</td>\n",
       "      <td>8.464833</td>\n",
       "      <td>[{'label': 'display', 'lat': 49.489254, 'lng':...</td>\n",
       "      <td>253</td>\n",
       "      <td>68161</td>\n",
       "      <td>DE</td>\n",
       "      <td>Mannheim</td>\n",
       "      <td>Baden-Württemberg</td>\n",
       "      <td>Deutschland</td>\n",
       "      <td>[E3, 1, 68161 Mannheim]</td>\n",
       "      <td>5bbbf9e8b8fd9d002c902466</td>\n",
       "    </tr>\n",
       "    <tr>\n",
       "      <th>2</th>\n",
       "      <td>Greek Food</td>\n",
       "      <td>Greek Restaurant</td>\n",
       "      <td>Im Zollhof 4</td>\n",
       "      <td>49.486038</td>\n",
       "      <td>8.447235</td>\n",
       "      <td>[{'label': 'display', 'lat': 49.486038, 'lng':...</td>\n",
       "      <td>1383</td>\n",
       "      <td>NaN</td>\n",
       "      <td>DE</td>\n",
       "      <td>Ludwigshafen am Rhein</td>\n",
       "      <td>Rheinland-Pfalz</td>\n",
       "      <td>Deutschland</td>\n",
       "      <td>[Im Zollhof 4, Ludwigshafen am Rhein]</td>\n",
       "      <td>5cc1b79604d1ae002ca44b99</td>\n",
       "    </tr>\n",
       "    <tr>\n",
       "      <th>3</th>\n",
       "      <td>Mykonos Greek Food</td>\n",
       "      <td>BBQ Joint</td>\n",
       "      <td>Bahnhofstraße 22</td>\n",
       "      <td>49.482300</td>\n",
       "      <td>8.444235</td>\n",
       "      <td>[{'label': 'display', 'lat': 49.4823, 'lng': 8...</td>\n",
       "      <td>1684</td>\n",
       "      <td>67059</td>\n",
       "      <td>DE</td>\n",
       "      <td>Ludwigshafen am Rhein</td>\n",
       "      <td>Rheinland-Pfalz</td>\n",
       "      <td>Deutschland</td>\n",
       "      <td>[Bahnhofstraße 22, 67059 Ludwigshafen am Rhein]</td>\n",
       "      <td>5d092fe02d2fd9002cd9605e</td>\n",
       "    </tr>\n",
       "  </tbody>\n",
       "</table>\n",
       "</div>"
      ],
      "text/plain": [
       "                         name        categories           address        lat  \\\n",
       "0  Greek Food Bar -Restaurant  Greek Restaurant            Q2, 14  49.488117   \n",
       "1      Ellin - Original Greek  Greek Restaurant             E3, 1  49.489254   \n",
       "2                  Greek Food  Greek Restaurant      Im Zollhof 4  49.486038   \n",
       "3          Mykonos Greek Food         BBQ Joint  Bahnhofstraße 22  49.482300   \n",
       "\n",
       "        lng                                     labeledLatLngs  distance  \\\n",
       "0  8.468732  [{'label': 'display', 'lat': 49.48811654211074...       205   \n",
       "1  8.464833  [{'label': 'display', 'lat': 49.489254, 'lng':...       253   \n",
       "2  8.447235  [{'label': 'display', 'lat': 49.486038, 'lng':...      1383   \n",
       "3  8.444235  [{'label': 'display', 'lat': 49.4823, 'lng': 8...      1684   \n",
       "\n",
       "  postalCode  cc                   city              state      country  \\\n",
       "0      68161  DE               Mannheim  Baden-Württemberg  Deutschland   \n",
       "1      68161  DE               Mannheim  Baden-Württemberg  Deutschland   \n",
       "2        NaN  DE  Ludwigshafen am Rhein    Rheinland-Pfalz  Deutschland   \n",
       "3      67059  DE  Ludwigshafen am Rhein    Rheinland-Pfalz  Deutschland   \n",
       "\n",
       "                                  formattedAddress                        id  \n",
       "0                         [Q2, 14, 68161 Mannheim]  540de7b9498eadd8beb91a85  \n",
       "1                          [E3, 1, 68161 Mannheim]  5bbbf9e8b8fd9d002c902466  \n",
       "2            [Im Zollhof 4, Ludwigshafen am Rhein]  5cc1b79604d1ae002ca44b99  \n",
       "3  [Bahnhofstraße 22, 67059 Ludwigshafen am Rhein]  5d092fe02d2fd9002cd9605e  "
      ]
     },
     "execution_count": 6,
     "metadata": {},
     "output_type": "execute_result"
    }
   ],
   "source": [
    "# Define information of interest and filter dataframe\n",
    "# keep only columns that include venue name, and anything that is associated with location\n",
    "filtered_columns = ['name', 'categories'] + [col for col in df.columns if col.startswith('location.')] + ['id']\n",
    "df_filtered = df.loc[:, filtered_columns]\n",
    "\n",
    "# function that extracts the category of the venue\n",
    "def get_category_type(row):\n",
    "    try:\n",
    "        categories_list = row['categories']\n",
    "    except:\n",
    "        categories_list = row['venue.categories']\n",
    "        \n",
    "    if len(categories_list) == 0:\n",
    "        return None\n",
    "    else:\n",
    "        return categories_list[0]['name']\n",
    "\n",
    "# filter the category for each row\n",
    "df_filtered['categories'] = df_filtered.apply(get_category_type, axis=1)\n",
    "\n",
    "# clean column names by keeping only last term\n",
    "df_filtered.columns = [column.split('.')[-1] for column in df_filtered.columns]\n",
    "\n",
    "df_filtered"
   ]
  },
  {
   "cell_type": "markdown",
   "metadata": {},
   "source": [
    "Let´s the greek restaurants in the area"
   ]
  },
  {
   "cell_type": "code",
   "execution_count": 24,
   "metadata": {},
   "outputs": [
    {
     "data": {
      "text/html": [
       "<div style=\"width:100%;\"><div style=\"position:relative;width:100%;height:0;padding-bottom:60%;\"><span style=\"color:#565656\">Make this Notebook Trusted to load map: File -> Trust Notebook</span><iframe src=\"about:blank\" style=\"position:absolute;width:100%;height:100%;left:0;top:0;border:none !important;\" data-html=%3C%21DOCTYPE%20html%3E%0A%3Chead%3E%20%20%20%20%0A%20%20%20%20%3Cmeta%20http-equiv%3D%22content-type%22%20content%3D%22text/html%3B%20charset%3DUTF-8%22%20/%3E%0A%20%20%20%20%3Cscript%3EL_PREFER_CANVAS%20%3D%20false%3B%20L_NO_TOUCH%20%3D%20false%3B%20L_DISABLE_3D%20%3D%20false%3B%3C/script%3E%0A%20%20%20%20%3Cscript%20src%3D%22https%3A//cdn.jsdelivr.net/npm/leaflet%401.2.0/dist/leaflet.js%22%3E%3C/script%3E%0A%20%20%20%20%3Cscript%20src%3D%22https%3A//ajax.googleapis.com/ajax/libs/jquery/1.11.1/jquery.min.js%22%3E%3C/script%3E%0A%20%20%20%20%3Cscript%20src%3D%22https%3A//maxcdn.bootstrapcdn.com/bootstrap/3.2.0/js/bootstrap.min.js%22%3E%3C/script%3E%0A%20%20%20%20%3Cscript%20src%3D%22https%3A//cdnjs.cloudflare.com/ajax/libs/Leaflet.awesome-markers/2.0.2/leaflet.awesome-markers.js%22%3E%3C/script%3E%0A%20%20%20%20%3Clink%20rel%3D%22stylesheet%22%20href%3D%22https%3A//cdn.jsdelivr.net/npm/leaflet%401.2.0/dist/leaflet.css%22/%3E%0A%20%20%20%20%3Clink%20rel%3D%22stylesheet%22%20href%3D%22https%3A//maxcdn.bootstrapcdn.com/bootstrap/3.2.0/css/bootstrap.min.css%22/%3E%0A%20%20%20%20%3Clink%20rel%3D%22stylesheet%22%20href%3D%22https%3A//maxcdn.bootstrapcdn.com/bootstrap/3.2.0/css/bootstrap-theme.min.css%22/%3E%0A%20%20%20%20%3Clink%20rel%3D%22stylesheet%22%20href%3D%22https%3A//maxcdn.bootstrapcdn.com/font-awesome/4.6.3/css/font-awesome.min.css%22/%3E%0A%20%20%20%20%3Clink%20rel%3D%22stylesheet%22%20href%3D%22https%3A//cdnjs.cloudflare.com/ajax/libs/Leaflet.awesome-markers/2.0.2/leaflet.awesome-markers.css%22/%3E%0A%20%20%20%20%3Clink%20rel%3D%22stylesheet%22%20href%3D%22https%3A//rawgit.com/python-visualization/folium/master/folium/templates/leaflet.awesome.rotate.css%22/%3E%0A%20%20%20%20%3Cstyle%3Ehtml%2C%20body%20%7Bwidth%3A%20100%25%3Bheight%3A%20100%25%3Bmargin%3A%200%3Bpadding%3A%200%3B%7D%3C/style%3E%0A%20%20%20%20%3Cstyle%3E%23map%20%7Bposition%3Aabsolute%3Btop%3A0%3Bbottom%3A0%3Bright%3A0%3Bleft%3A0%3B%7D%3C/style%3E%0A%20%20%20%20%0A%20%20%20%20%20%20%20%20%20%20%20%20%3Cstyle%3E%20%23map_904074a3ea35447a82d4c2ee63980c78%20%7B%0A%20%20%20%20%20%20%20%20%20%20%20%20%20%20%20%20position%20%3A%20relative%3B%0A%20%20%20%20%20%20%20%20%20%20%20%20%20%20%20%20width%20%3A%20100.0%25%3B%0A%20%20%20%20%20%20%20%20%20%20%20%20%20%20%20%20height%3A%20100.0%25%3B%0A%20%20%20%20%20%20%20%20%20%20%20%20%20%20%20%20left%3A%200.0%25%3B%0A%20%20%20%20%20%20%20%20%20%20%20%20%20%20%20%20top%3A%200.0%25%3B%0A%20%20%20%20%20%20%20%20%20%20%20%20%20%20%20%20%7D%0A%20%20%20%20%20%20%20%20%20%20%20%20%3C/style%3E%0A%20%20%20%20%20%20%20%20%0A%3C/head%3E%0A%3Cbody%3E%20%20%20%20%0A%20%20%20%20%0A%20%20%20%20%20%20%20%20%20%20%20%20%3Cdiv%20class%3D%22folium-map%22%20id%3D%22map_904074a3ea35447a82d4c2ee63980c78%22%20%3E%3C/div%3E%0A%20%20%20%20%20%20%20%20%0A%3C/body%3E%0A%3Cscript%3E%20%20%20%20%0A%20%20%20%20%0A%0A%20%20%20%20%20%20%20%20%20%20%20%20%0A%20%20%20%20%20%20%20%20%20%20%20%20%20%20%20%20var%20bounds%20%3D%20null%3B%0A%20%20%20%20%20%20%20%20%20%20%20%20%0A%0A%20%20%20%20%20%20%20%20%20%20%20%20var%20map_904074a3ea35447a82d4c2ee63980c78%20%3D%20L.map%28%0A%20%20%20%20%20%20%20%20%20%20%20%20%20%20%20%20%20%20%20%20%20%20%20%20%20%20%20%20%20%20%20%20%20%20%27map_904074a3ea35447a82d4c2ee63980c78%27%2C%0A%20%20%20%20%20%20%20%20%20%20%20%20%20%20%20%20%20%20%20%20%20%20%20%20%20%20%20%20%20%20%20%20%20%20%7Bcenter%3A%20%5B49.487182250000004%2C8.466282438198064%5D%2C%0A%20%20%20%20%20%20%20%20%20%20%20%20%20%20%20%20%20%20%20%20%20%20%20%20%20%20%20%20%20%20%20%20%20%20zoom%3A%2013%2C%0A%20%20%20%20%20%20%20%20%20%20%20%20%20%20%20%20%20%20%20%20%20%20%20%20%20%20%20%20%20%20%20%20%20%20maxBounds%3A%20bounds%2C%0A%20%20%20%20%20%20%20%20%20%20%20%20%20%20%20%20%20%20%20%20%20%20%20%20%20%20%20%20%20%20%20%20%20%20layers%3A%20%5B%5D%2C%0A%20%20%20%20%20%20%20%20%20%20%20%20%20%20%20%20%20%20%20%20%20%20%20%20%20%20%20%20%20%20%20%20%20%20worldCopyJump%3A%20false%2C%0A%20%20%20%20%20%20%20%20%20%20%20%20%20%20%20%20%20%20%20%20%20%20%20%20%20%20%20%20%20%20%20%20%20%20crs%3A%20L.CRS.EPSG3857%0A%20%20%20%20%20%20%20%20%20%20%20%20%20%20%20%20%20%20%20%20%20%20%20%20%20%20%20%20%20%20%20%20%20%7D%29%3B%0A%20%20%20%20%20%20%20%20%20%20%20%20%0A%20%20%20%20%20%20%20%20%0A%20%20%20%20%0A%20%20%20%20%20%20%20%20%20%20%20%20var%20tile_layer_2a3e93b4ac08453397e3ddbc0e9a547b%20%3D%20L.tileLayer%28%0A%20%20%20%20%20%20%20%20%20%20%20%20%20%20%20%20%27https%3A//%7Bs%7D.tile.openstreetmap.org/%7Bz%7D/%7Bx%7D/%7By%7D.png%27%2C%0A%20%20%20%20%20%20%20%20%20%20%20%20%20%20%20%20%7B%0A%20%20%22attribution%22%3A%20null%2C%0A%20%20%22detectRetina%22%3A%20false%2C%0A%20%20%22maxZoom%22%3A%2018%2C%0A%20%20%22minZoom%22%3A%201%2C%0A%20%20%22noWrap%22%3A%20false%2C%0A%20%20%22subdomains%22%3A%20%22abc%22%0A%7D%0A%20%20%20%20%20%20%20%20%20%20%20%20%20%20%20%20%29.addTo%28map_904074a3ea35447a82d4c2ee63980c78%29%3B%0A%20%20%20%20%20%20%20%20%0A%20%20%20%20%0A%20%20%20%20%20%20%20%20%20%20%20%20var%20circle_marker_52df86158c80444f9aff13b951f023ce%20%3D%20L.circleMarker%28%0A%20%20%20%20%20%20%20%20%20%20%20%20%20%20%20%20%5B49.487182250000004%2C8.466282438198064%5D%2C%0A%20%20%20%20%20%20%20%20%20%20%20%20%20%20%20%20%7B%0A%20%20%22bubblingMouseEvents%22%3A%20true%2C%0A%20%20%22color%22%3A%20%22red%22%2C%0A%20%20%22dashArray%22%3A%20null%2C%0A%20%20%22dashOffset%22%3A%20null%2C%0A%20%20%22fill%22%3A%20true%2C%0A%20%20%22fillColor%22%3A%20%22red%22%2C%0A%20%20%22fillOpacity%22%3A%200.6%2C%0A%20%20%22fillRule%22%3A%20%22evenodd%22%2C%0A%20%20%22lineCap%22%3A%20%22round%22%2C%0A%20%20%22lineJoin%22%3A%20%22round%22%2C%0A%20%20%22opacity%22%3A%201.0%2C%0A%20%20%22radius%22%3A%209%2C%0A%20%20%22stroke%22%3A%20true%2C%0A%20%20%22weight%22%3A%203%0A%7D%0A%20%20%20%20%20%20%20%20%20%20%20%20%20%20%20%20%29.addTo%28map_904074a3ea35447a82d4c2ee63980c78%29%3B%0A%20%20%20%20%20%20%20%20%20%20%20%20%0A%20%20%20%20%0A%20%20%20%20%20%20%20%20%20%20%20%20var%20popup_52eda7fc30604515bf374f8d2538114e%20%3D%20L.popup%28%7BmaxWidth%3A%20%27300%27%7D%29%3B%0A%0A%20%20%20%20%20%20%20%20%20%20%20%20%0A%20%20%20%20%20%20%20%20%20%20%20%20%20%20%20%20var%20html_6e2fe1207d9e4346991f99f348b21ed1%20%3D%20%24%28%27%3Cdiv%20id%3D%22html_6e2fe1207d9e4346991f99f348b21ed1%22%20style%3D%22width%3A%20100.0%25%3B%20height%3A%20100.0%25%3B%22%3EParadeplatz%3C/div%3E%27%29%5B0%5D%3B%0A%20%20%20%20%20%20%20%20%20%20%20%20%20%20%20%20popup_52eda7fc30604515bf374f8d2538114e.setContent%28html_6e2fe1207d9e4346991f99f348b21ed1%29%3B%0A%20%20%20%20%20%20%20%20%20%20%20%20%0A%0A%20%20%20%20%20%20%20%20%20%20%20%20circle_marker_52df86158c80444f9aff13b951f023ce.bindPopup%28popup_52eda7fc30604515bf374f8d2538114e%29%3B%0A%0A%20%20%20%20%20%20%20%20%20%20%20%20%0A%20%20%20%20%20%20%20%20%0A%20%20%20%20%0A%20%20%20%20%20%20%20%20%20%20%20%20var%20circle_marker_b36387b3256c4ecda6287a60aa45a2d4%20%3D%20L.circleMarker%28%0A%20%20%20%20%20%20%20%20%20%20%20%20%20%20%20%20%5B49.488116542110745%2C8.468732243325526%5D%2C%0A%20%20%20%20%20%20%20%20%20%20%20%20%20%20%20%20%7B%0A%20%20%22bubblingMouseEvents%22%3A%20true%2C%0A%20%20%22color%22%3A%20%22blue%22%2C%0A%20%20%22dashArray%22%3A%20null%2C%0A%20%20%22dashOffset%22%3A%20null%2C%0A%20%20%22fill%22%3A%20true%2C%0A%20%20%22fillColor%22%3A%20%22blue%22%2C%0A%20%20%22fillOpacity%22%3A%200.6%2C%0A%20%20%22fillRule%22%3A%20%22evenodd%22%2C%0A%20%20%22lineCap%22%3A%20%22round%22%2C%0A%20%20%22lineJoin%22%3A%20%22round%22%2C%0A%20%20%22opacity%22%3A%201.0%2C%0A%20%20%22radius%22%3A%205%2C%0A%20%20%22stroke%22%3A%20true%2C%0A%20%20%22weight%22%3A%203%0A%7D%0A%20%20%20%20%20%20%20%20%20%20%20%20%20%20%20%20%29.addTo%28map_904074a3ea35447a82d4c2ee63980c78%29%3B%0A%20%20%20%20%20%20%20%20%20%20%20%20%0A%20%20%20%20%0A%20%20%20%20%20%20%20%20%20%20%20%20var%20popup_63e174f525704cd0b7a9a6010c2d2414%20%3D%20L.popup%28%7BmaxWidth%3A%20%27300%27%7D%29%3B%0A%0A%20%20%20%20%20%20%20%20%20%20%20%20%0A%20%20%20%20%20%20%20%20%20%20%20%20%20%20%20%20var%20html_7d49686f990e4eecbb7a0f5845d7d8e7%20%3D%20%24%28%27%3Cdiv%20id%3D%22html_7d49686f990e4eecbb7a0f5845d7d8e7%22%20style%3D%22width%3A%20100.0%25%3B%20height%3A%20100.0%25%3B%22%3EGreek%20Restaurant%3C/div%3E%27%29%5B0%5D%3B%0A%20%20%20%20%20%20%20%20%20%20%20%20%20%20%20%20popup_63e174f525704cd0b7a9a6010c2d2414.setContent%28html_7d49686f990e4eecbb7a0f5845d7d8e7%29%3B%0A%20%20%20%20%20%20%20%20%20%20%20%20%0A%0A%20%20%20%20%20%20%20%20%20%20%20%20circle_marker_b36387b3256c4ecda6287a60aa45a2d4.bindPopup%28popup_63e174f525704cd0b7a9a6010c2d2414%29%3B%0A%0A%20%20%20%20%20%20%20%20%20%20%20%20%0A%20%20%20%20%20%20%20%20%0A%20%20%20%20%0A%20%20%20%20%20%20%20%20%20%20%20%20var%20circle_marker_7c633122a40f4b808eb00c8216e49789%20%3D%20L.circleMarker%28%0A%20%20%20%20%20%20%20%20%20%20%20%20%20%20%20%20%5B49.489254%2C8.464833%5D%2C%0A%20%20%20%20%20%20%20%20%20%20%20%20%20%20%20%20%7B%0A%20%20%22bubblingMouseEvents%22%3A%20true%2C%0A%20%20%22color%22%3A%20%22blue%22%2C%0A%20%20%22dashArray%22%3A%20null%2C%0A%20%20%22dashOffset%22%3A%20null%2C%0A%20%20%22fill%22%3A%20true%2C%0A%20%20%22fillColor%22%3A%20%22blue%22%2C%0A%20%20%22fillOpacity%22%3A%200.6%2C%0A%20%20%22fillRule%22%3A%20%22evenodd%22%2C%0A%20%20%22lineCap%22%3A%20%22round%22%2C%0A%20%20%22lineJoin%22%3A%20%22round%22%2C%0A%20%20%22opacity%22%3A%201.0%2C%0A%20%20%22radius%22%3A%205%2C%0A%20%20%22stroke%22%3A%20true%2C%0A%20%20%22weight%22%3A%203%0A%7D%0A%20%20%20%20%20%20%20%20%20%20%20%20%20%20%20%20%29.addTo%28map_904074a3ea35447a82d4c2ee63980c78%29%3B%0A%20%20%20%20%20%20%20%20%20%20%20%20%0A%20%20%20%20%0A%20%20%20%20%20%20%20%20%20%20%20%20var%20popup_8c2aae27d2d4433eb4e602127864c5c7%20%3D%20L.popup%28%7BmaxWidth%3A%20%27300%27%7D%29%3B%0A%0A%20%20%20%20%20%20%20%20%20%20%20%20%0A%20%20%20%20%20%20%20%20%20%20%20%20%20%20%20%20var%20html_0d158ffe784b4af29c77b09c573a2e19%20%3D%20%24%28%27%3Cdiv%20id%3D%22html_0d158ffe784b4af29c77b09c573a2e19%22%20style%3D%22width%3A%20100.0%25%3B%20height%3A%20100.0%25%3B%22%3EGreek%20Restaurant%3C/div%3E%27%29%5B0%5D%3B%0A%20%20%20%20%20%20%20%20%20%20%20%20%20%20%20%20popup_8c2aae27d2d4433eb4e602127864c5c7.setContent%28html_0d158ffe784b4af29c77b09c573a2e19%29%3B%0A%20%20%20%20%20%20%20%20%20%20%20%20%0A%0A%20%20%20%20%20%20%20%20%20%20%20%20circle_marker_7c633122a40f4b808eb00c8216e49789.bindPopup%28popup_8c2aae27d2d4433eb4e602127864c5c7%29%3B%0A%0A%20%20%20%20%20%20%20%20%20%20%20%20%0A%20%20%20%20%20%20%20%20%0A%20%20%20%20%0A%20%20%20%20%20%20%20%20%20%20%20%20var%20circle_marker_3004d0e6cec64a0696b62d591a0ac563%20%3D%20L.circleMarker%28%0A%20%20%20%20%20%20%20%20%20%20%20%20%20%20%20%20%5B49.486038%2C8.447235%5D%2C%0A%20%20%20%20%20%20%20%20%20%20%20%20%20%20%20%20%7B%0A%20%20%22bubblingMouseEvents%22%3A%20true%2C%0A%20%20%22color%22%3A%20%22blue%22%2C%0A%20%20%22dashArray%22%3A%20null%2C%0A%20%20%22dashOffset%22%3A%20null%2C%0A%20%20%22fill%22%3A%20true%2C%0A%20%20%22fillColor%22%3A%20%22blue%22%2C%0A%20%20%22fillOpacity%22%3A%200.6%2C%0A%20%20%22fillRule%22%3A%20%22evenodd%22%2C%0A%20%20%22lineCap%22%3A%20%22round%22%2C%0A%20%20%22lineJoin%22%3A%20%22round%22%2C%0A%20%20%22opacity%22%3A%201.0%2C%0A%20%20%22radius%22%3A%205%2C%0A%20%20%22stroke%22%3A%20true%2C%0A%20%20%22weight%22%3A%203%0A%7D%0A%20%20%20%20%20%20%20%20%20%20%20%20%20%20%20%20%29.addTo%28map_904074a3ea35447a82d4c2ee63980c78%29%3B%0A%20%20%20%20%20%20%20%20%20%20%20%20%0A%20%20%20%20%0A%20%20%20%20%20%20%20%20%20%20%20%20var%20popup_649fa487ef3a4a9481c6ba50e50e1f64%20%3D%20L.popup%28%7BmaxWidth%3A%20%27300%27%7D%29%3B%0A%0A%20%20%20%20%20%20%20%20%20%20%20%20%0A%20%20%20%20%20%20%20%20%20%20%20%20%20%20%20%20var%20html_63f4719b477742568c8833b095399308%20%3D%20%24%28%27%3Cdiv%20id%3D%22html_63f4719b477742568c8833b095399308%22%20style%3D%22width%3A%20100.0%25%3B%20height%3A%20100.0%25%3B%22%3EGreek%20Restaurant%3C/div%3E%27%29%5B0%5D%3B%0A%20%20%20%20%20%20%20%20%20%20%20%20%20%20%20%20popup_649fa487ef3a4a9481c6ba50e50e1f64.setContent%28html_63f4719b477742568c8833b095399308%29%3B%0A%20%20%20%20%20%20%20%20%20%20%20%20%0A%0A%20%20%20%20%20%20%20%20%20%20%20%20circle_marker_3004d0e6cec64a0696b62d591a0ac563.bindPopup%28popup_649fa487ef3a4a9481c6ba50e50e1f64%29%3B%0A%0A%20%20%20%20%20%20%20%20%20%20%20%20%0A%20%20%20%20%20%20%20%20%0A%20%20%20%20%0A%20%20%20%20%20%20%20%20%20%20%20%20var%20circle_marker_0b93e981002641b4abe5fb8ac5d9fb92%20%3D%20L.circleMarker%28%0A%20%20%20%20%20%20%20%20%20%20%20%20%20%20%20%20%5B49.4823%2C8.444235%5D%2C%0A%20%20%20%20%20%20%20%20%20%20%20%20%20%20%20%20%7B%0A%20%20%22bubblingMouseEvents%22%3A%20true%2C%0A%20%20%22color%22%3A%20%22blue%22%2C%0A%20%20%22dashArray%22%3A%20null%2C%0A%20%20%22dashOffset%22%3A%20null%2C%0A%20%20%22fill%22%3A%20true%2C%0A%20%20%22fillColor%22%3A%20%22blue%22%2C%0A%20%20%22fillOpacity%22%3A%200.6%2C%0A%20%20%22fillRule%22%3A%20%22evenodd%22%2C%0A%20%20%22lineCap%22%3A%20%22round%22%2C%0A%20%20%22lineJoin%22%3A%20%22round%22%2C%0A%20%20%22opacity%22%3A%201.0%2C%0A%20%20%22radius%22%3A%205%2C%0A%20%20%22stroke%22%3A%20true%2C%0A%20%20%22weight%22%3A%203%0A%7D%0A%20%20%20%20%20%20%20%20%20%20%20%20%20%20%20%20%29.addTo%28map_904074a3ea35447a82d4c2ee63980c78%29%3B%0A%20%20%20%20%20%20%20%20%20%20%20%20%0A%20%20%20%20%0A%20%20%20%20%20%20%20%20%20%20%20%20var%20popup_3d33c92d25254ce9b8be24142c1b1cbe%20%3D%20L.popup%28%7BmaxWidth%3A%20%27300%27%7D%29%3B%0A%0A%20%20%20%20%20%20%20%20%20%20%20%20%0A%20%20%20%20%20%20%20%20%20%20%20%20%20%20%20%20var%20html_1ba19f367bee422bbf9e2faf998844f3%20%3D%20%24%28%27%3Cdiv%20id%3D%22html_1ba19f367bee422bbf9e2faf998844f3%22%20style%3D%22width%3A%20100.0%25%3B%20height%3A%20100.0%25%3B%22%3EBBQ%20Joint%3C/div%3E%27%29%5B0%5D%3B%0A%20%20%20%20%20%20%20%20%20%20%20%20%20%20%20%20popup_3d33c92d25254ce9b8be24142c1b1cbe.setContent%28html_1ba19f367bee422bbf9e2faf998844f3%29%3B%0A%20%20%20%20%20%20%20%20%20%20%20%20%0A%0A%20%20%20%20%20%20%20%20%20%20%20%20circle_marker_0b93e981002641b4abe5fb8ac5d9fb92.bindPopup%28popup_3d33c92d25254ce9b8be24142c1b1cbe%29%3B%0A%0A%20%20%20%20%20%20%20%20%20%20%20%20%0A%20%20%20%20%20%20%20%20%0A%3C/script%3E onload=\"this.contentDocument.open();this.contentDocument.write(    decodeURIComponent(this.getAttribute('data-html')));this.contentDocument.close();\" allowfullscreen webkitallowfullscreen mozallowfullscreen></iframe></div></div>"
      ],
      "text/plain": [
       "<folium.folium.Map at 0x7fe8fb74e610>"
      ]
     },
     "execution_count": 24,
     "metadata": {},
     "output_type": "execute_result"
    }
   ],
   "source": [
    "dataframe_filtered.name\n",
    "venues_map = folium.Map(location=[latitude, longitude], zoom_start=13) # generate map centred around the Paradeplatz Mannheim\n",
    "\n",
    "# add a red circle marker to represent the center (Paradeplatz)\n",
    "folium.CircleMarker(\n",
    "    [latitude, longitude],\n",
    "    radius=9,\n",
    "    color='red',\n",
    "    popup='Paradeplatz',\n",
    "    fill = True,\n",
    "    fill_color = 'red',\n",
    "    fill_opacity = 0.6\n",
    ").add_to(venues_map)\n",
    "\n",
    "# add the greek restaurants as blue circle markers\n",
    "for lat, lng, label in zip(dataframe_filtered.lat, dataframe_filtered.lng, dataframe_filtered.categories):\n",
    "    folium.CircleMarker(\n",
    "        [lat, lng],\n",
    "        radius=5,\n",
    "        color='blue',\n",
    "        popup=label,\n",
    "        fill = True,\n",
    "        fill_color='blue',\n",
    "        fill_opacity=0.6\n",
    "    ).add_to(venues_map)\n",
    "\n",
    "# display map\n",
    "venues_map"
   ]
  },
  {
   "cell_type": "markdown",
   "metadata": {},
   "source": [
    "### Foursquare\n",
    "Now that we have our location candidates, let's use Foursquare API to get info on restaurants in each neighborhood.\n",
    "\n",
    "We're interested in venues in 'food' category, but only those that are proper restaurants - coffe shops, pizza places, bakeries etc. are not direct competitors so we don't care about those. So we will include in out list only venues that have 'restaurant' in category name, and we'll make sure to detect and include all the subcategories of specific 'Italian restaurant' category, as we need info on Italian restaurants in the neighborhood."
   ]
  },
  {
   "cell_type": "markdown",
   "metadata": {},
   "source": [
    "Looking good. So now we have all the restaurants in area within few kilometers from Alexanderplatz, and we know which ones are Italian restaurants! We also know which restaurants exactly are in vicinity of every neighborhood candidate center.\n",
    "\n",
    "This concludes the data gathering phase - we're now ready to use this data for analysis to produce the report on optimal locations for a new Italian restaurant!"
   ]
  },
  {
   "cell_type": "markdown",
   "metadata": {},
   "source": [
    "## Methodology <a name=\"methodology\"></a>"
   ]
  },
  {
   "cell_type": "markdown",
   "metadata": {},
   "source": [
    "This analysis focuses on places with low density of greek restaurants which are as close as possible to the center of Mannheim, the Paradeplatz. As already mentioned, the area is located about 2km around the city center.\n",
    "\n",
    "In first step, I have collected the required **data: location and type (category) of every restaurant within 2km from Mannheim center** (Paradeplatz). I have also **identified greek restaurants** (according to Foursquare categorization).\n",
    "\n",
    "Second step in this analysis will be the calculation and exploration of '**restaurant density**' of those four greek restaurants. Therefore, we will calculate the distance of each restaurant to the Paradeplatz.\n",
    "\n",
    "In third and final step I will focus on most promising areas and within Mannheim city center. \n",
    "Established in the discussion with stakeholders: \n",
    "*only locations with **no other greek restaurant in radius of 300 meters** are taken into consideration. \n",
    "\n",
    "I will present a map of all such locations but also create clusters (using **k-means clustering**) of those locations to identify general zones / neighborhoods / addresses which should be a starting point for final 'street level' exploration and search for optimal venue location by stakeholders."
   ]
  },
  {
   "cell_type": "markdown",
   "metadata": {},
   "source": [
    "## Analysis <a name=\"analysis\"></a>"
   ]
  },
  {
   "cell_type": "markdown",
   "metadata": {},
   "source": [
    "OK, now let's analyze the **distance of each greek restaurant from Paradeplatz** (not only those within 300m - distance to closest one, regardless of how distant it is)."
   ]
  },
  {
   "cell_type": "markdown",
   "metadata": {},
   "source": [
    "Let´s get the distance out of json-file."
   ]
  },
  {
   "cell_type": "code",
   "execution_count": 8,
   "metadata": {},
   "outputs": [
    {
     "data": {
      "text/plain": [
       "0     205\n",
       "1     253\n",
       "2    1383\n",
       "3    1684\n",
       "Name: distance, dtype: int64"
      ]
     },
     "execution_count": 8,
     "metadata": {},
     "output_type": "execute_result"
    }
   ],
   "source": [
    "distance_to_center = df_filtered['distance']\n",
    "distance_to_center"
   ]
  },
  {
   "cell_type": "code",
   "execution_count": 9,
   "metadata": {},
   "outputs": [
    {
     "name": "stdout",
     "output_type": "stream",
     "text": [
      "Average distance to closest greek restaurant from center: 881.25\n"
     ]
    }
   ],
   "source": [
    "#average distance of each greek restaurant from center\n",
    "print('Average distance to closest greek restaurant from center:', df_filtered['distance'].mean()) "
   ]
  },
  {
   "cell_type": "markdown",
   "metadata": {},
   "source": [
    "OK, so I can see that two greek restaurants are within 250 meters of the center of the city of Mannheim. We need to seek carefully for\n",
    "a possible place for the new greek restaurant. "
   ]
  },
  {
   "cell_type": "markdown",
   "metadata": {},
   "source": [
    "Looks like an area of low greek-restaurant density closest to city center can be found **south, south-east from Paradeplatz**. At this point, we only want to focus on greek restaurants. \n"
   ]
  },
  {
   "cell_type": "markdown",
   "metadata": {},
   "source": [
    "I can conclude that near the center of Mannheim, in a radius of less than 300 m already two greek restaurants exist.\n",
    "For this reason, we will focus on an area with a bigger radius around the center.\n",
    "To do so, we take the average distance of greek restaurants of the center, which is **881 m**. \n",
    "To conclude, we want to open our restaurant possibly in a radius of 881 m around Paradeplatz with respect to a south or\n",
    "sout-east location."
   ]
  },
  {
   "cell_type": "markdown",
   "metadata": {},
   "source": [
    "OK. Now let's show our area of interest in a map."
   ]
  },
  {
   "cell_type": "markdown",
   "metadata": {},
   "source": [
    "Let's see how this looks on a map."
   ]
  },
  {
   "cell_type": "code",
   "execution_count": 46,
   "metadata": {
    "scrolled": true
   },
   "outputs": [
    {
     "data": {
      "text/html": [
       "<div style=\"width:100%;\"><div style=\"position:relative;width:100%;height:0;padding-bottom:60%;\"><span style=\"color:#565656\">Make this Notebook Trusted to load map: File -> Trust Notebook</span><iframe src=\"about:blank\" style=\"position:absolute;width:100%;height:100%;left:0;top:0;border:none !important;\" data-html=%3C%21DOCTYPE%20html%3E%0A%3Chead%3E%20%20%20%20%0A%20%20%20%20%3Cmeta%20http-equiv%3D%22content-type%22%20content%3D%22text/html%3B%20charset%3DUTF-8%22%20/%3E%0A%20%20%20%20%3Cscript%3EL_PREFER_CANVAS%20%3D%20false%3B%20L_NO_TOUCH%20%3D%20false%3B%20L_DISABLE_3D%20%3D%20false%3B%3C/script%3E%0A%20%20%20%20%3Cscript%20src%3D%22https%3A//cdn.jsdelivr.net/npm/leaflet%401.2.0/dist/leaflet.js%22%3E%3C/script%3E%0A%20%20%20%20%3Cscript%20src%3D%22https%3A//ajax.googleapis.com/ajax/libs/jquery/1.11.1/jquery.min.js%22%3E%3C/script%3E%0A%20%20%20%20%3Cscript%20src%3D%22https%3A//maxcdn.bootstrapcdn.com/bootstrap/3.2.0/js/bootstrap.min.js%22%3E%3C/script%3E%0A%20%20%20%20%3Cscript%20src%3D%22https%3A//cdnjs.cloudflare.com/ajax/libs/Leaflet.awesome-markers/2.0.2/leaflet.awesome-markers.js%22%3E%3C/script%3E%0A%20%20%20%20%3Clink%20rel%3D%22stylesheet%22%20href%3D%22https%3A//cdn.jsdelivr.net/npm/leaflet%401.2.0/dist/leaflet.css%22/%3E%0A%20%20%20%20%3Clink%20rel%3D%22stylesheet%22%20href%3D%22https%3A//maxcdn.bootstrapcdn.com/bootstrap/3.2.0/css/bootstrap.min.css%22/%3E%0A%20%20%20%20%3Clink%20rel%3D%22stylesheet%22%20href%3D%22https%3A//maxcdn.bootstrapcdn.com/bootstrap/3.2.0/css/bootstrap-theme.min.css%22/%3E%0A%20%20%20%20%3Clink%20rel%3D%22stylesheet%22%20href%3D%22https%3A//maxcdn.bootstrapcdn.com/font-awesome/4.6.3/css/font-awesome.min.css%22/%3E%0A%20%20%20%20%3Clink%20rel%3D%22stylesheet%22%20href%3D%22https%3A//cdnjs.cloudflare.com/ajax/libs/Leaflet.awesome-markers/2.0.2/leaflet.awesome-markers.css%22/%3E%0A%20%20%20%20%3Clink%20rel%3D%22stylesheet%22%20href%3D%22https%3A//rawgit.com/python-visualization/folium/master/folium/templates/leaflet.awesome.rotate.css%22/%3E%0A%20%20%20%20%3Cstyle%3Ehtml%2C%20body%20%7Bwidth%3A%20100%25%3Bheight%3A%20100%25%3Bmargin%3A%200%3Bpadding%3A%200%3B%7D%3C/style%3E%0A%20%20%20%20%3Cstyle%3E%23map%20%7Bposition%3Aabsolute%3Btop%3A0%3Bbottom%3A0%3Bright%3A0%3Bleft%3A0%3B%7D%3C/style%3E%0A%20%20%20%20%0A%20%20%20%20%20%20%20%20%20%20%20%20%3Cstyle%3E%20%23map_0cb89d5d2f754d7c80f64f99a28e9a68%20%7B%0A%20%20%20%20%20%20%20%20%20%20%20%20%20%20%20%20position%20%3A%20relative%3B%0A%20%20%20%20%20%20%20%20%20%20%20%20%20%20%20%20width%20%3A%20100.0%25%3B%0A%20%20%20%20%20%20%20%20%20%20%20%20%20%20%20%20height%3A%20100.0%25%3B%0A%20%20%20%20%20%20%20%20%20%20%20%20%20%20%20%20left%3A%200.0%25%3B%0A%20%20%20%20%20%20%20%20%20%20%20%20%20%20%20%20top%3A%200.0%25%3B%0A%20%20%20%20%20%20%20%20%20%20%20%20%20%20%20%20%7D%0A%20%20%20%20%20%20%20%20%20%20%20%20%3C/style%3E%0A%20%20%20%20%20%20%20%20%0A%3C/head%3E%0A%3Cbody%3E%20%20%20%20%0A%20%20%20%20%0A%20%20%20%20%20%20%20%20%20%20%20%20%3Cdiv%20class%3D%22folium-map%22%20id%3D%22map_0cb89d5d2f754d7c80f64f99a28e9a68%22%20%3E%3C/div%3E%0A%20%20%20%20%20%20%20%20%0A%3C/body%3E%0A%3Cscript%3E%20%20%20%20%0A%20%20%20%20%0A%0A%20%20%20%20%20%20%20%20%20%20%20%20%0A%20%20%20%20%20%20%20%20%20%20%20%20%20%20%20%20var%20bounds%20%3D%20null%3B%0A%20%20%20%20%20%20%20%20%20%20%20%20%0A%0A%20%20%20%20%20%20%20%20%20%20%20%20var%20map_0cb89d5d2f754d7c80f64f99a28e9a68%20%3D%20L.map%28%0A%20%20%20%20%20%20%20%20%20%20%20%20%20%20%20%20%20%20%20%20%20%20%20%20%20%20%20%20%20%20%20%20%20%20%27map_0cb89d5d2f754d7c80f64f99a28e9a68%27%2C%0A%20%20%20%20%20%20%20%20%20%20%20%20%20%20%20%20%20%20%20%20%20%20%20%20%20%20%20%20%20%20%20%20%20%20%7Bcenter%3A%20%5B49.487182250000004%2C8.466282438198064%5D%2C%0A%20%20%20%20%20%20%20%20%20%20%20%20%20%20%20%20%20%20%20%20%20%20%20%20%20%20%20%20%20%20%20%20%20%20zoom%3A%2013%2C%0A%20%20%20%20%20%20%20%20%20%20%20%20%20%20%20%20%20%20%20%20%20%20%20%20%20%20%20%20%20%20%20%20%20%20maxBounds%3A%20bounds%2C%0A%20%20%20%20%20%20%20%20%20%20%20%20%20%20%20%20%20%20%20%20%20%20%20%20%20%20%20%20%20%20%20%20%20%20layers%3A%20%5B%5D%2C%0A%20%20%20%20%20%20%20%20%20%20%20%20%20%20%20%20%20%20%20%20%20%20%20%20%20%20%20%20%20%20%20%20%20%20worldCopyJump%3A%20false%2C%0A%20%20%20%20%20%20%20%20%20%20%20%20%20%20%20%20%20%20%20%20%20%20%20%20%20%20%20%20%20%20%20%20%20%20crs%3A%20L.CRS.EPSG3857%0A%20%20%20%20%20%20%20%20%20%20%20%20%20%20%20%20%20%20%20%20%20%20%20%20%20%20%20%20%20%20%20%20%20%7D%29%3B%0A%20%20%20%20%20%20%20%20%20%20%20%20%0A%20%20%20%20%20%20%20%20%0A%20%20%20%20%0A%20%20%20%20%20%20%20%20%20%20%20%20var%20tile_layer_f2cc2aa3d40d44e8b36491605855fbb0%20%3D%20L.tileLayer%28%0A%20%20%20%20%20%20%20%20%20%20%20%20%20%20%20%20%27https%3A//%7Bs%7D.tile.openstreetmap.org/%7Bz%7D/%7Bx%7D/%7By%7D.png%27%2C%0A%20%20%20%20%20%20%20%20%20%20%20%20%20%20%20%20%7B%0A%20%20%22attribution%22%3A%20null%2C%0A%20%20%22detectRetina%22%3A%20false%2C%0A%20%20%22maxZoom%22%3A%2018%2C%0A%20%20%22minZoom%22%3A%201%2C%0A%20%20%22noWrap%22%3A%20false%2C%0A%20%20%22subdomains%22%3A%20%22abc%22%0A%7D%0A%20%20%20%20%20%20%20%20%20%20%20%20%20%20%20%20%29.addTo%28map_0cb89d5d2f754d7c80f64f99a28e9a68%29%3B%0A%20%20%20%20%20%20%20%20%0A%20%20%20%20%0A%20%20%20%20%20%20%20%20%20%20%20%20var%20circle_marker_87183441d9a54aa4ad7151a41f7b04a1%20%3D%20L.circleMarker%28%0A%20%20%20%20%20%20%20%20%20%20%20%20%20%20%20%20%5B49.487182250000004%2C8.466282438198064%5D%2C%0A%20%20%20%20%20%20%20%20%20%20%20%20%20%20%20%20%7B%0A%20%20%22bubblingMouseEvents%22%3A%20true%2C%0A%20%20%22color%22%3A%20%22red%22%2C%0A%20%20%22dashArray%22%3A%20null%2C%0A%20%20%22dashOffset%22%3A%20null%2C%0A%20%20%22fill%22%3A%20true%2C%0A%20%20%22fillColor%22%3A%20%22red%22%2C%0A%20%20%22fillOpacity%22%3A%200.6%2C%0A%20%20%22fillRule%22%3A%20%22evenodd%22%2C%0A%20%20%22lineCap%22%3A%20%22round%22%2C%0A%20%20%22lineJoin%22%3A%20%22round%22%2C%0A%20%20%22opacity%22%3A%201.0%2C%0A%20%20%22radius%22%3A%205%2C%0A%20%20%22stroke%22%3A%20true%2C%0A%20%20%22weight%22%3A%203%0A%7D%0A%20%20%20%20%20%20%20%20%20%20%20%20%20%20%20%20%29.addTo%28map_0cb89d5d2f754d7c80f64f99a28e9a68%29%3B%0A%20%20%20%20%20%20%20%20%20%20%20%20%0A%20%20%20%20%0A%20%20%20%20%20%20%20%20%20%20%20%20var%20popup_0fa156fa7f634c1cac03428cafa28716%20%3D%20L.popup%28%7BmaxWidth%3A%20%27300%27%7D%29%3B%0A%0A%20%20%20%20%20%20%20%20%20%20%20%20%0A%20%20%20%20%20%20%20%20%20%20%20%20%20%20%20%20var%20html_29ba8cb1820e40f49d3c63d746362e19%20%3D%20%24%28%27%3Cdiv%20id%3D%22html_29ba8cb1820e40f49d3c63d746362e19%22%20style%3D%22width%3A%20100.0%25%3B%20height%3A%20100.0%25%3B%22%3EParadeplatz%3C/div%3E%27%29%5B0%5D%3B%0A%20%20%20%20%20%20%20%20%20%20%20%20%20%20%20%20popup_0fa156fa7f634c1cac03428cafa28716.setContent%28html_29ba8cb1820e40f49d3c63d746362e19%29%3B%0A%20%20%20%20%20%20%20%20%20%20%20%20%0A%0A%20%20%20%20%20%20%20%20%20%20%20%20circle_marker_87183441d9a54aa4ad7151a41f7b04a1.bindPopup%28popup_0fa156fa7f634c1cac03428cafa28716%29%3B%0A%0A%20%20%20%20%20%20%20%20%20%20%20%20%0A%20%20%20%20%20%20%20%20%0A%20%20%20%20%0A%20%20%20%20%20%20%20%20%20%20%20%20var%20circle_marker_5e48746f5a024a13a2feb462b13d722d%20%3D%20L.circleMarker%28%0A%20%20%20%20%20%20%20%20%20%20%20%20%20%20%20%20%5B49.488116542110745%2C8.468732243325526%5D%2C%0A%20%20%20%20%20%20%20%20%20%20%20%20%20%20%20%20%7B%0A%20%20%22bubblingMouseEvents%22%3A%20true%2C%0A%20%20%22color%22%3A%20%22blue%22%2C%0A%20%20%22dashArray%22%3A%20null%2C%0A%20%20%22dashOffset%22%3A%20null%2C%0A%20%20%22fill%22%3A%20true%2C%0A%20%20%22fillColor%22%3A%20%22blue%22%2C%0A%20%20%22fillOpacity%22%3A%200.6%2C%0A%20%20%22fillRule%22%3A%20%22evenodd%22%2C%0A%20%20%22lineCap%22%3A%20%22round%22%2C%0A%20%20%22lineJoin%22%3A%20%22round%22%2C%0A%20%20%22opacity%22%3A%201.0%2C%0A%20%20%22radius%22%3A%203%2C%0A%20%20%22stroke%22%3A%20true%2C%0A%20%20%22weight%22%3A%203%0A%7D%0A%20%20%20%20%20%20%20%20%20%20%20%20%20%20%20%20%29.addTo%28map_0cb89d5d2f754d7c80f64f99a28e9a68%29%3B%0A%20%20%20%20%20%20%20%20%20%20%20%20%0A%20%20%20%20%0A%20%20%20%20%20%20%20%20%20%20%20%20var%20popup_eb8339f9af4a4d6e94a80e8f0d079022%20%3D%20L.popup%28%7BmaxWidth%3A%20%27300%27%7D%29%3B%0A%0A%20%20%20%20%20%20%20%20%20%20%20%20%0A%20%20%20%20%20%20%20%20%20%20%20%20%20%20%20%20var%20html_aac51b71fae14f66aefbec9fda581234%20%3D%20%24%28%27%3Cdiv%20id%3D%22html_aac51b71fae14f66aefbec9fda581234%22%20style%3D%22width%3A%20100.0%25%3B%20height%3A%20100.0%25%3B%22%3EGreek%20Restaurant%3C/div%3E%27%29%5B0%5D%3B%0A%20%20%20%20%20%20%20%20%20%20%20%20%20%20%20%20popup_eb8339f9af4a4d6e94a80e8f0d079022.setContent%28html_aac51b71fae14f66aefbec9fda581234%29%3B%0A%20%20%20%20%20%20%20%20%20%20%20%20%0A%0A%20%20%20%20%20%20%20%20%20%20%20%20circle_marker_5e48746f5a024a13a2feb462b13d722d.bindPopup%28popup_eb8339f9af4a4d6e94a80e8f0d079022%29%3B%0A%0A%20%20%20%20%20%20%20%20%20%20%20%20%0A%20%20%20%20%20%20%20%20%0A%20%20%20%20%0A%20%20%20%20%20%20%20%20%20%20%20%20var%20circle_marker_366c30257c124269b2fccb1830df0a8c%20%3D%20L.circleMarker%28%0A%20%20%20%20%20%20%20%20%20%20%20%20%20%20%20%20%5B49.489254%2C8.464833%5D%2C%0A%20%20%20%20%20%20%20%20%20%20%20%20%20%20%20%20%7B%0A%20%20%22bubblingMouseEvents%22%3A%20true%2C%0A%20%20%22color%22%3A%20%22blue%22%2C%0A%20%20%22dashArray%22%3A%20null%2C%0A%20%20%22dashOffset%22%3A%20null%2C%0A%20%20%22fill%22%3A%20true%2C%0A%20%20%22fillColor%22%3A%20%22blue%22%2C%0A%20%20%22fillOpacity%22%3A%200.6%2C%0A%20%20%22fillRule%22%3A%20%22evenodd%22%2C%0A%20%20%22lineCap%22%3A%20%22round%22%2C%0A%20%20%22lineJoin%22%3A%20%22round%22%2C%0A%20%20%22opacity%22%3A%201.0%2C%0A%20%20%22radius%22%3A%203%2C%0A%20%20%22stroke%22%3A%20true%2C%0A%20%20%22weight%22%3A%203%0A%7D%0A%20%20%20%20%20%20%20%20%20%20%20%20%20%20%20%20%29.addTo%28map_0cb89d5d2f754d7c80f64f99a28e9a68%29%3B%0A%20%20%20%20%20%20%20%20%20%20%20%20%0A%20%20%20%20%0A%20%20%20%20%20%20%20%20%20%20%20%20var%20popup_bf3e4bc1d41c4d6ca8783214ee0b0b09%20%3D%20L.popup%28%7BmaxWidth%3A%20%27300%27%7D%29%3B%0A%0A%20%20%20%20%20%20%20%20%20%20%20%20%0A%20%20%20%20%20%20%20%20%20%20%20%20%20%20%20%20var%20html_3848fbb0afa844789208871c8964fe86%20%3D%20%24%28%27%3Cdiv%20id%3D%22html_3848fbb0afa844789208871c8964fe86%22%20style%3D%22width%3A%20100.0%25%3B%20height%3A%20100.0%25%3B%22%3EGreek%20Restaurant%3C/div%3E%27%29%5B0%5D%3B%0A%20%20%20%20%20%20%20%20%20%20%20%20%20%20%20%20popup_bf3e4bc1d41c4d6ca8783214ee0b0b09.setContent%28html_3848fbb0afa844789208871c8964fe86%29%3B%0A%20%20%20%20%20%20%20%20%20%20%20%20%0A%0A%20%20%20%20%20%20%20%20%20%20%20%20circle_marker_366c30257c124269b2fccb1830df0a8c.bindPopup%28popup_bf3e4bc1d41c4d6ca8783214ee0b0b09%29%3B%0A%0A%20%20%20%20%20%20%20%20%20%20%20%20%0A%20%20%20%20%20%20%20%20%0A%20%20%20%20%0A%20%20%20%20%20%20%20%20%20%20%20%20var%20circle_marker_df71f80237c6459dae0aaae0fd8acbe0%20%3D%20L.circleMarker%28%0A%20%20%20%20%20%20%20%20%20%20%20%20%20%20%20%20%5B49.486038%2C8.447235%5D%2C%0A%20%20%20%20%20%20%20%20%20%20%20%20%20%20%20%20%7B%0A%20%20%22bubblingMouseEvents%22%3A%20true%2C%0A%20%20%22color%22%3A%20%22blue%22%2C%0A%20%20%22dashArray%22%3A%20null%2C%0A%20%20%22dashOffset%22%3A%20null%2C%0A%20%20%22fill%22%3A%20true%2C%0A%20%20%22fillColor%22%3A%20%22blue%22%2C%0A%20%20%22fillOpacity%22%3A%200.6%2C%0A%20%20%22fillRule%22%3A%20%22evenodd%22%2C%0A%20%20%22lineCap%22%3A%20%22round%22%2C%0A%20%20%22lineJoin%22%3A%20%22round%22%2C%0A%20%20%22opacity%22%3A%201.0%2C%0A%20%20%22radius%22%3A%203%2C%0A%20%20%22stroke%22%3A%20true%2C%0A%20%20%22weight%22%3A%203%0A%7D%0A%20%20%20%20%20%20%20%20%20%20%20%20%20%20%20%20%29.addTo%28map_0cb89d5d2f754d7c80f64f99a28e9a68%29%3B%0A%20%20%20%20%20%20%20%20%20%20%20%20%0A%20%20%20%20%0A%20%20%20%20%20%20%20%20%20%20%20%20var%20popup_1edd2b56f7a142ef83cc0fd9589e02b0%20%3D%20L.popup%28%7BmaxWidth%3A%20%27300%27%7D%29%3B%0A%0A%20%20%20%20%20%20%20%20%20%20%20%20%0A%20%20%20%20%20%20%20%20%20%20%20%20%20%20%20%20var%20html_3c3325f717e94b1cacc438ee99b74d8b%20%3D%20%24%28%27%3Cdiv%20id%3D%22html_3c3325f717e94b1cacc438ee99b74d8b%22%20style%3D%22width%3A%20100.0%25%3B%20height%3A%20100.0%25%3B%22%3EGreek%20Restaurant%3C/div%3E%27%29%5B0%5D%3B%0A%20%20%20%20%20%20%20%20%20%20%20%20%20%20%20%20popup_1edd2b56f7a142ef83cc0fd9589e02b0.setContent%28html_3c3325f717e94b1cacc438ee99b74d8b%29%3B%0A%20%20%20%20%20%20%20%20%20%20%20%20%0A%0A%20%20%20%20%20%20%20%20%20%20%20%20circle_marker_df71f80237c6459dae0aaae0fd8acbe0.bindPopup%28popup_1edd2b56f7a142ef83cc0fd9589e02b0%29%3B%0A%0A%20%20%20%20%20%20%20%20%20%20%20%20%0A%20%20%20%20%20%20%20%20%0A%20%20%20%20%0A%20%20%20%20%20%20%20%20%20%20%20%20var%20circle_marker_7a76756839a0462db7c95fa335f8202a%20%3D%20L.circleMarker%28%0A%20%20%20%20%20%20%20%20%20%20%20%20%20%20%20%20%5B49.4823%2C8.444235%5D%2C%0A%20%20%20%20%20%20%20%20%20%20%20%20%20%20%20%20%7B%0A%20%20%22bubblingMouseEvents%22%3A%20true%2C%0A%20%20%22color%22%3A%20%22blue%22%2C%0A%20%20%22dashArray%22%3A%20null%2C%0A%20%20%22dashOffset%22%3A%20null%2C%0A%20%20%22fill%22%3A%20true%2C%0A%20%20%22fillColor%22%3A%20%22blue%22%2C%0A%20%20%22fillOpacity%22%3A%200.6%2C%0A%20%20%22fillRule%22%3A%20%22evenodd%22%2C%0A%20%20%22lineCap%22%3A%20%22round%22%2C%0A%20%20%22lineJoin%22%3A%20%22round%22%2C%0A%20%20%22opacity%22%3A%201.0%2C%0A%20%20%22radius%22%3A%203%2C%0A%20%20%22stroke%22%3A%20true%2C%0A%20%20%22weight%22%3A%203%0A%7D%0A%20%20%20%20%20%20%20%20%20%20%20%20%20%20%20%20%29.addTo%28map_0cb89d5d2f754d7c80f64f99a28e9a68%29%3B%0A%20%20%20%20%20%20%20%20%20%20%20%20%0A%20%20%20%20%0A%20%20%20%20%20%20%20%20%20%20%20%20var%20popup_2404697cdb454812906a987ab42fbc3c%20%3D%20L.popup%28%7BmaxWidth%3A%20%27300%27%7D%29%3B%0A%0A%20%20%20%20%20%20%20%20%20%20%20%20%0A%20%20%20%20%20%20%20%20%20%20%20%20%20%20%20%20var%20html_28c2556b4cf14d6d820962bce779ec9f%20%3D%20%24%28%27%3Cdiv%20id%3D%22html_28c2556b4cf14d6d820962bce779ec9f%22%20style%3D%22width%3A%20100.0%25%3B%20height%3A%20100.0%25%3B%22%3EBBQ%20Joint%3C/div%3E%27%29%5B0%5D%3B%0A%20%20%20%20%20%20%20%20%20%20%20%20%20%20%20%20popup_2404697cdb454812906a987ab42fbc3c.setContent%28html_28c2556b4cf14d6d820962bce779ec9f%29%3B%0A%20%20%20%20%20%20%20%20%20%20%20%20%0A%0A%20%20%20%20%20%20%20%20%20%20%20%20circle_marker_7a76756839a0462db7c95fa335f8202a.bindPopup%28popup_2404697cdb454812906a987ab42fbc3c%29%3B%0A%0A%20%20%20%20%20%20%20%20%20%20%20%20%0A%20%20%20%20%20%20%20%20%0A%20%20%20%20%0A%0A%20%20%20%20%20%20%20%20%20%20%20%20var%20circle_bd2eddc166bf47c78dacae210cde2bc8%20%3D%20L.circle%28%0A%20%20%20%20%20%20%20%20%20%20%20%20%20%20%20%20%5B49.487182250000004%2C8.466282438198064%5D%2C%0A%20%20%20%20%20%20%20%20%20%20%20%20%20%20%20%20%7B%0A%20%20%22bubblingMouseEvents%22%3A%20true%2C%0A%20%20%22color%22%3A%20%22green%22%2C%0A%20%20%22dashArray%22%3A%20null%2C%0A%20%20%22dashOffset%22%3A%20null%2C%0A%20%20%22fill%22%3A%20false%2C%0A%20%20%22fillColor%22%3A%20%22green%22%2C%0A%20%20%22fillOpacity%22%3A%201%2C%0A%20%20%22fillRule%22%3A%20%22evenodd%22%2C%0A%20%20%22lineCap%22%3A%20%22round%22%2C%0A%20%20%22lineJoin%22%3A%20%22round%22%2C%0A%20%20%22opacity%22%3A%201.0%2C%0A%20%20%22radius%22%3A%20255%2C%0A%20%20%22stroke%22%3A%20true%2C%0A%20%20%22weight%22%3A%203%0A%7D%0A%20%20%20%20%20%20%20%20%20%20%20%20%20%20%20%20%29.addTo%28map_0cb89d5d2f754d7c80f64f99a28e9a68%29%3B%0A%20%20%20%20%20%20%20%20%20%20%20%20%0A%20%20%20%20%0A%0A%20%20%20%20%20%20%20%20%20%20%20%20var%20circle_bde6fa28ff5d41a9ac0d947039586fe5%20%3D%20L.circle%28%0A%20%20%20%20%20%20%20%20%20%20%20%20%20%20%20%20%5B49.487182250000004%2C8.466282438198064%5D%2C%0A%20%20%20%20%20%20%20%20%20%20%20%20%20%20%20%20%7B%0A%20%20%22bubblingMouseEvents%22%3A%20true%2C%0A%20%20%22color%22%3A%20%22green%22%2C%0A%20%20%22dashArray%22%3A%20null%2C%0A%20%20%22dashOffset%22%3A%20null%2C%0A%20%20%22fill%22%3A%20false%2C%0A%20%20%22fillColor%22%3A%20%22green%22%2C%0A%20%20%22fillOpacity%22%3A%201%2C%0A%20%20%22fillRule%22%3A%20%22evenodd%22%2C%0A%20%20%22lineCap%22%3A%20%22round%22%2C%0A%20%20%22lineJoin%22%3A%20%22round%22%2C%0A%20%20%22opacity%22%3A%201.0%2C%0A%20%20%22radius%22%3A%20881%2C%0A%20%20%22stroke%22%3A%20true%2C%0A%20%20%22weight%22%3A%203%0A%7D%0A%20%20%20%20%20%20%20%20%20%20%20%20%20%20%20%20%29.addTo%28map_0cb89d5d2f754d7c80f64f99a28e9a68%29%3B%0A%20%20%20%20%20%20%20%20%20%20%20%20%0A%3C/script%3E onload=\"this.contentDocument.open();this.contentDocument.write(    decodeURIComponent(this.getAttribute('data-html')));this.contentDocument.close();\" allowfullscreen webkitallowfullscreen mozallowfullscreen></iframe></div></div>"
      ],
      "text/plain": [
       "<folium.folium.Map at 0x7fe8f2173e50>"
      ]
     },
     "execution_count": 46,
     "metadata": {},
     "output_type": "execute_result"
    }
   ],
   "source": [
    "dataframe_filtered.name\n",
    "venues_map = folium.Map(location=[latitude, longitude], zoom_start=13) # generate map centred around the Paradeplatz Mannheim\n",
    "\n",
    "# add a red circle marker to represent the center (Paradeplatz)\n",
    "folium.CircleMarker(\n",
    "    [latitude, longitude],\n",
    "    radius=5,\n",
    "    color='red',\n",
    "    popup='Paradeplatz',\n",
    "    fill = True,\n",
    "    fill_color = 'red',\n",
    "    fill_opacity = 0.6\n",
    ").add_to(venues_map)\n",
    "\n",
    "# add the greek restaurants as blue circle markers\n",
    "for lat, lng, label in zip(dataframe_filtered.lat, dataframe_filtered.lng, dataframe_filtered.categories):\n",
    "    folium.CircleMarker(\n",
    "        [lat, lng],\n",
    "        radius=3,\n",
    "        color='blue',\n",
    "        popup=label,\n",
    "        fill = True,\n",
    "        fill_color='blue',\n",
    "        fill_opacity=0.6\n",
    "    ).add_to(venues_map)\n",
    "\n",
    "    \n",
    "# add a red circle for our area of interest\n",
    "# are from 250 to 881 m around center\n",
    "folium.Circle([latitude, longitude], radius=255, color='green', fill=False, fill_opacity=1).add_to(venues_map)\n",
    "folium.Circle([latitude, longitude], radius=881, color='green', fill=False, fill_opacity=1).add_to(venues_map)\n",
    "\n",
    "# display map\n",
    "venues_map"
   ]
  },
  {
   "cell_type": "markdown",
   "metadata": {},
   "source": [
    "Looking good. In the are within the two green circles, there are possible good locations to open a greek restaurant.\n",
    "For the owner of the new greek restaurant, it is now easier possible to select a good spot to open his restaurant.\n",
    "Any of the locations within the two green circles woould be a good fit, whereas the owner of the new greek restaurant \n",
    "will likely seek for a spot possibly far away from the two competitors in the center of Mannheim.\n",
    "Therefore, it is highly recommended to seek a sport southly of the center of Mannheim."
   ]
  },
  {
   "cell_type": "markdown",
   "metadata": {},
   "source": [
    " \n",
    "\n",
    "\n",
    "This concludes my analysis."
   ]
  },
  {
   "cell_type": "markdown",
   "metadata": {},
   "source": [
    "## Results and Discussion <a name=\"results\"></a>"
   ]
  },
  {
   "cell_type": "markdown",
   "metadata": {},
   "source": [
    "This analysis shows that although there is a great number of greek restaurants in the center of Mannheim within an area of approximately a radius of 2 km,  there are possible spots of low greek-restaurant density fairly close to city center. Especially, southly of Paradeplatz, our estimated center of the city of Mannheim, there is a huge area of possible spots to open a new greek restaurant. \n",
    "\n",
    "For this analysis, the center of the city of Mannheim is assumed to be Paradeplatz with the following address and coordinates:\n",
    "- address: 'Paradeplatz, Mannheim, Germany'\n",
    "- coordinates: latitude (49.487182250000004) & longitude(8.466282438198064)\n",
    "\n",
    "Within a radius of 2 km around the Paradeplatz, four greek restaurants could be found. The goal of this analysis is to find possible spots\n",
    "of low density of greek-restaurants. This possible spots for a new greek restaurant should be as close to the Paradeplatz as possible. Therefore, a radius of a maximum of 300 m around the center is assumed as very close. In this analysis it could be found that already two greek restaurants exist within a radius of 250 m, whereas the two other greek restaurants are in a radius of 1383 m and 1684 m. It can be concluded, that the very center of the city of Mannheim is quite crowded with a lot of greek restaurants. Altogether, four restaurants could be found within a total radius of 2 km around the center.\n",
    "\n",
    "Interestingly, reviewing the location map showing all four restaurants with their respective distance to the Paradeplatz, it can be concluded that there are basically two clusters of greek restaurants within the total radius of 2 km. \n",
    "- one cluster consists of the two restaurants close to the center\n",
    "- another cluster consists of the two restaurants quite far away of the center.\n",
    "That way, it can be summed up that in the area referred as close to the center and far away is quite low crowded with creek restaurants. \n",
    "\n",
    "All in all, the chosen project for using Foursquare API could not provide such an extensive scope a assumed at first. Nevertheless, by analyzing the current situation of the crowded greek restaurants, interesting insights could be won. A hypothesis has to be stated that by the course of the current COVID-19 pandemia, a possible reason for the low density of greek restaurants can be found. This goes for the time of working on this report in March 2021. This hypothesis is in so far interesting, as the author of this report expected by far more greek restaurants in the center of the city of Mannheim when starting this final capstone project. \n"
   ]
  },
  {
   "cell_type": "markdown",
   "metadata": {},
   "source": [
    "## Conclusion <a name=\"conclusion\"></a>"
   ]
  },
  {
   "cell_type": "markdown",
   "metadata": {},
   "source": [
    "Purpose of this project was to identify Mannheim spots close to center with low density of greek restaurants in order to aid the main stakeholder in narrowing down the search for optimal location for a new greek restaurant. By calculating restaurant density distribution from Foursquare data at first the current distribution of greek restaurants is identified. Accordingly, the distance of each restaurant to the center was calculated, whereas four greek restaurants can be found in an area of a radius of 2 km around the city center. Those four restaurants can be clustered in two different clusters, as two restaurants are located very close to the center and two are both located quite far from the center of Mannheim. Therefore, a zone for good spots can be concluded and are presented to the stakeholder as possible good spots for opening a new greek restaurant. This zone starts with a radius of 255 m around the Paradeplatz and reaches to the average distance of all four greek restaurants from the center, which makes a radius of 881 m. \n",
    "\n",
    "The final decision for an optimal restaurant location will be made by the main stakeholder based on his specific desires a good spot. To assist this decision, a spot southly of the city center is recommended as the two greek restaurants near the center are a little bit northly of the Paradeplatz."
   ]
  },
  {
   "cell_type": "code",
   "execution_count": null,
   "metadata": {},
   "outputs": [],
   "source": []
  }
 ],
 "metadata": {
  "kernelspec": {
   "display_name": "Python 3.7",
   "language": "python",
   "name": "python3"
  },
  "language_info": {
   "codemirror_mode": {
    "name": "ipython",
    "version": 3
   },
   "file_extension": ".py",
   "mimetype": "text/x-python",
   "name": "python",
   "nbconvert_exporter": "python",
   "pygments_lexer": "ipython3",
   "version": "3.7.10"
  }
 },
 "nbformat": 4,
 "nbformat_minor": 1
}
